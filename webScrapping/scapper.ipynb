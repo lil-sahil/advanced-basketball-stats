{
 "cells": [
  {
   "cell_type": "code",
   "execution_count": 1,
   "id": "7de7a1d0",
   "metadata": {},
   "outputs": [],
   "source": [
    "import pandas as pd\n",
    "import numpy as np\n",
    "import re\n",
    "import requests\n",
    "from bs4 import BeautifulSoup\n",
    "\n",
    "\n",
    "import pymongo\n",
    "import dns\n",
    "import json\n",
    "\n",
    "import os\n",
    "from dotenv import load_dotenv"
   ]
  },
  {
   "cell_type": "code",
   "execution_count": 16,
   "id": "830b6c46",
   "metadata": {},
   "outputs": [
    {
     "data": {
      "text/plain": [
       "True"
      ]
     },
     "execution_count": 16,
     "metadata": {},
     "output_type": "execute_result"
    }
   ],
   "source": [
    "load_dotenv('./.env')"
   ]
  },
  {
   "cell_type": "code",
   "execution_count": 6,
   "id": "c21c1c8f",
   "metadata": {},
   "outputs": [],
   "source": [
    "def insert_into_db(collection_name,object_to_add):\n",
    "    client = pymongo.MongoClient(os.getenv(\"MONGODB_URI\"))\n",
    "    db = client.stats\n",
    "    db[collection_name].insert_one(object_to_add)"
   ]
  },
  {
   "cell_type": "code",
   "execution_count": 27,
   "id": "629fd311",
   "metadata": {},
   "outputs": [],
   "source": [
    "def scrape_stats(start_year : int, end_year : int):\n",
    "    \n",
    "#     Initialize mongodb connection\n",
    "    client = pymongo.MongoClient(os.getenv(\"MONGODB_URI_ADVANCED_STATS\"))\n",
    "    db = client.stats\n",
    "\n",
    "    \n",
    "    for year in range(start_year, end_year + 1):\n",
    "        year = str(year)\n",
    "        \n",
    "        \n",
    "        url = \"https://www.basketball-reference.com/leagues/NBA_{}_per_game.html\".format(year)\n",
    "    \n",
    "        source = requests.get(url).text\n",
    "        soup = BeautifulSoup(source, 'lxml')\n",
    "        \n",
    "        \n",
    "        for i, row in enumerate(soup.find(\"div\", id = \"div_per_game_stats\").find('tbody').find_all('tr')):\n",
    "            \n",
    "            stat_dictionary = {}\n",
    "            \n",
    "            if \"thead\" in row.get('class'):                \n",
    "                continue\n",
    "            \n",
    "            try:\n",
    "                for ind, col in enumerate(row):\n",
    "                    if ind != 0:\n",
    "                        stat_dictionary[col.get('data-stat')] = col.text\n",
    "                    \n",
    "            except AttributeError:\n",
    "                pass\n",
    "            \n",
    "            \n",
    "            \n",
    "            advanced_stats_url = 'https://www.basketball-reference.com/leagues/NBA_{}_advanced.html'.format(year)\n",
    "            advanced_source = requests.get(advanced_stats_url).text\n",
    "            soup_advanced = BeautifulSoup(advanced_source, 'lxml')\n",
    "            \n",
    "            \n",
    "            advanced_col = soup_advanced.find(\"div\", id = \"div_advanced_stats\").find('tbody').find_all('tr')[i]\n",
    "            \n",
    "            try:\n",
    "                for ind, col in enumerate(advanced_col):\n",
    "                    if ind != 0 and ind != 1:\n",
    "                        stat_dictionary[col.get('data-stat')] = col.text\n",
    "            \n",
    "            except AttributeError:\n",
    "                pass\n",
    "            \n",
    "            \n",
    "            db[year].insert_one(stat_dictionary)\n",
    "#             insert_into_db(year, stat_dictionary)\n",
    "            \n",
    "            \n",
    "        \n",
    "            \n",
    "    \n"
   ]
  },
  {
   "cell_type": "code",
   "execution_count": null,
   "id": "4d59bcd5",
   "metadata": {},
   "outputs": [],
   "source": [
    "scrape_stats(2019,2022)"
   ]
  },
  {
   "cell_type": "code",
   "execution_count": 1,
   "id": "88e59411",
   "metadata": {},
   "outputs": [],
   "source": [
    "# Web scrapper for getting playerID and general stats"
   ]
  },
  {
   "cell_type": "code",
   "execution_count": 2,
   "id": "e1cd1a37",
   "metadata": {},
   "outputs": [],
   "source": [
    "def get_player_data():\n",
    "    \n",
    "\n",
    "    url = \"https://stats.nba.com/stats/playerindex?College=&Country=&DraftPick=&DraftRound=&DraftYear=&Height=&Historical=1&LeagueID=00&Season=2022-23&SeasonType=Regular%20Season&TeamID=0&Weight=\"\n",
    "    \n",
    "    payload={}\n",
    "    headers = {\n",
    "      'Accept': '*/*',\n",
    "      'Accept-Language': 'en-CA,en-GB;q=0.9,en-US;q=0.8,en;q=0.7',\n",
    "      'Connection': 'keep-alive',\n",
    "      'Origin': 'https://www.nba.com',\n",
    "      'Referer': 'https://www.nba.com/',\n",
    "      'Sec-Fetch-Dest': 'empty',\n",
    "      'Sec-Fetch-Mode': 'cors',\n",
    "      'Sec-Fetch-Site': 'same-site',\n",
    "      'User-Agent': 'Mozilla/5.0 (X11; Linux x86_64) AppleWebKit/537.36 (KHTML, like Gecko) Chrome/103.0.0.0 Safari/537.36',\n",
    "      'sec-ch-ua': '\".Not/A)Brand\";v=\"99\", \"Google Chrome\";v=\"103\", \"Chromium\";v=\"103\"',\n",
    "      'sec-ch-ua-mobile': '?0',\n",
    "      'sec-ch-ua-platform': '\"Linux\"',\n",
    "      'Cookie': 'ak_bmsc=22E0E68CE2DD8F7B78773537CCDA3527~000000000000000000000000000000~YAAQrw/QF6i20gOCAQAAZ+XOExB7o9knL/op+4Ke/sNJK9NC4PD/Tne2C6QxXSEB2QGCOvW9hRNCpoybhX+sRqacKeEuM4VzeIEWLNM/NDT/nsAaNJfw2s5BbGXd9RHmO/6ZzSDBxjAtLRYhicY/JIWK3+w3TdJw0K/CQX5X0XX9rstSDPy1E8MMduQFTK5rYc4MG7UNHoI9jN/F4USya0WhqFOmx2LYELR9LY4zTyeSQ0O4whTyub7fpOTJ89KF1cmOjtQzFK13Kpj6A9miDqnK5hLpECtO7u/eKNpT40FOjw9VCMCMLVcNZ8USDEz9bjq/HzcuLL+zzmXcAzFTyOSf+2D3uxcoDjHUXllbr6DWJT7NWoB2iY8='\n",
    "    }\n",
    "\n",
    "    response = requests.request(\"GET\", url, headers=headers, data=payload)\n",
    "    \n",
    "    return response\n",
    "\n",
    "def convert_to_json(response):\n",
    "    return response.json()\n"
   ]
  },
  {
   "cell_type": "code",
   "execution_count": 18,
   "id": "bc97352f",
   "metadata": {},
   "outputs": [],
   "source": [
    "def insert_into_db(db_name, collection_name, object_to_add):\n",
    "    client = pymongo.MongoClient(os.getenv(\"MONGODB_URI_GENERAL_STATS\"))\n",
    "    db = client[db_name]\n",
    "    db[collection_name].insert_one(object_to_add)\n",
    "\n",
    "\n",
    "\n",
    "    \n",
    "def scrape_player_data():\n",
    "    response = get_player_data()\n",
    "    player_data = convert_to_json(response)\n",
    "    \n",
    "    data_object = {}\n",
    "    \n",
    "    for index, data in enumerate(player_data['resultSets'][0]['rowSet']):\n",
    "        \n",
    "        if (index >= 2917):\n",
    "            for index, header in enumerate(player_data['resultSets'][0]['headers']):\n",
    "\n",
    "                data_object[header] = data[index]\n",
    "\n",
    "            insert_into_db('player-general-stats','player-data', data_object)\n",
    "            data_object = {}\n",
    "    \n",
    "    print('Finished')"
   ]
  },
  {
   "cell_type": "code",
   "execution_count": null,
   "id": "eec4650a",
   "metadata": {},
   "outputs": [],
   "source": [
    "scrape_player_data() "
   ]
  },
  {
   "cell_type": "code",
   "execution_count": null,
   "id": "da65e0c1",
   "metadata": {},
   "outputs": [],
   "source": []
  }
 ],
 "metadata": {
  "kernelspec": {
   "display_name": "Python 3 (ipykernel)",
   "language": "python",
   "name": "python3"
  },
  "language_info": {
   "codemirror_mode": {
    "name": "ipython",
    "version": 3
   },
   "file_extension": ".py",
   "mimetype": "text/x-python",
   "name": "python",
   "nbconvert_exporter": "python",
   "pygments_lexer": "ipython3",
   "version": "3.10.4"
  }
 },
 "nbformat": 4,
 "nbformat_minor": 5
}
